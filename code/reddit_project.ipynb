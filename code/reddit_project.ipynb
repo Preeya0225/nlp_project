{
 "cells": [
  {
   "cell_type": "markdown",
   "metadata": {
    "toc-hr-collapsed": false
   },
   "source": [
    "# Web Scraping Reddit \n",
    "<img align=\"center\" width=\"300\" height=\"200\" src=\"../image/reddit_logo.jpg\" />\n",
    "\n",
    "(Image provided from [link](https://www.slashgear.com/reddit-is-experiencing-another-outage-heres-what-we-know-18592169/))"
   ]
  },
  {
   "cell_type": "markdown",
   "metadata": {},
   "source": [
    "## Problem Statement\n",
    "---\n",
    "When writing and publishing an article in the news, it is important to have great headlines to draw the reader's attention. As a small publisher, we want to emphasize on positivity of news all over the world. Our stories and headlines should be different and unique compared to other headlines. Our readers should feel the positivity we want to convey when they read our headlines. \n",
    "\n",
    "The problem we are trying to answer here is: **Are there any distinct keywords in titles, that would make someone perceive news as positive?**\n",
    "\n",
    "Reddit is a network of communities based on people's interests. We are going to use the posts of `r/worldnews` and `r/positive_news` to analyze this problem. Titles of each Subreddit are being extracted and analyzed using classification models, Multinomial Naive Bayes and Logistic Regression. We will use key words in titles to predict whether the title are listed in `r/positive_news` or `r/worldnews`. Our evaluation metrics will be accuracy score. False positive/false negative in this case are equally bad. Therefore, accuracy is likely the best metric to use to measure success for our models."
   ]
  },
  {
   "cell_type": "markdown",
   "metadata": {
    "toc-hr-collapsed": false
   },
   "source": [
    "## Executive Summary \n",
    "---\n",
    "The first part of the project was to use web scraping to collect data from two Subreddits, `r/worldnews` and `r/positive_news`. By using a test case, we determined that the information we needed was located in the `title` of the posts. After pulling the data, the information was then saved in a new data frame. Punctuation and duplicates were then removed during data cleaning. Exploratory data analysis was then conducted by counting the word frequency to determine if additional cleaning or preprocessing was required. Our model was predicting, whether a title was from `r/positive_news` or not by using key words in the training data set. \n",
    "\n",
    "The following classification models were used to analyze our data:\n",
    "\n",
    "- Multinomial Naive Bayes with CountVectorizer and TfidfVectorizer\n",
    "\n",
    "- Logistic Regression with CountVectorizer and TfidfVectorizer\n",
    "\n",
    "Additionally, _GridSearch_ and _Pipeline_ were used to find out the best parameters for these models. Accuracy score was then used to evaluate these models. Since in this case any misclassification is equally bad, accuracy score is the likely the best metric to evaluate these model.  We also further investigated our worst and best model to understand our incorrect predictions better by looking at coefficients as well as misclassification. Conclusions and results were then successfully obtained to answer our problem statement and a presentation was created and presented."
   ]
  },
  {
   "cell_type": "markdown",
   "metadata": {},
   "source": [
    "## Table of Contents\n",
    "---\n",
    "\n",
    "[1. Data Collection](#1.-Data-Collection)  \n",
    "- [Test case](#Test-case)\n",
    "- [Function for data collection](#Function-for-data-collection)  \n",
    "\n",
    "[2. Data Cleaning](#2.-Data-Cleaning)    \n",
    "- [First look](#First-look)\n",
    "- [Remove punctuation](#Remove-punctuation)\n",
    "- [Duplicates](#Duplicates)\n",
    "\n",
    "[3. EDA](#3.-EDA)  \n",
    "- [Preparations](#Preparations)\n",
    "- [Stop words included](#Stop-words-included)\n",
    "- [Stop words removed](#Stop-words-removed)\n",
    "- [Bigram](#Bigram)\n",
    "\n",
    "[4. Preprocessing](#4.-Preprocessing)\n",
    "- [Numbers and Lemmatization](#Numbers-and-Lemmatization)\n",
    "- [Preparation for Modeling](#Preparation-for-Modeling)\n",
    "\n",
    "[5. Modeling](#5.-Modeling)\n",
    "- [Baseline Model](#Baseline-Model)\n",
    "- [Multinomial Naive Bayes Model](#Multinomial-Naive-Bayes-Model)\n",
    "- [Logistic Regression Model](#Logistic-Regression-Model)\n",
    "- [Summary of Model](#Summary-of-Model)\n",
    "\n",
    "[6. Evaluation](#6.-Evaluation) \n",
    "- [Data frame of predictions](#Data-frame-of-predictions)\n",
    "- [Deep Dive analysis](#Deep-Dive-analysis)\n",
    "- [Summary of evaluation](#Summary-of-evaluation)\n",
    "\n",
    "[7. Conclusion and Recommendations](#7.-Conclusion-and-Recommendations)  \n"
   ]
  },
  {
   "cell_type": "markdown",
   "metadata": {
    "toc-hr-collapsed": true
   },
   "source": [
    "## 1. Data Collection\n",
    "---\n",
    "We are going to scrape from the homepage `https://www.reddit.com` using requests library.   \n",
    "The two Subreddits we are going to scrape are `r/worldnews` and `r/positive_news`. \n",
    "\n",
    "In this process, the first step is to create a test case, where we can test our requests on the homepage and see what kind of information are going to be relevant for us to answer our problem statement.\n",
    "The second step in data collection is use a function to pull, collect, and save the data accordingly. "
   ]
  },
  {
   "cell_type": "markdown",
   "metadata": {},
   "source": [
    "#### Import packages"
   ]
  },
  {
   "cell_type": "code",
   "execution_count": 1,
   "metadata": {},
   "outputs": [],
   "source": [
    "import warnings\n",
    "warnings.simplefilter(action='ignore', category=FutureWarning)\n",
    "\n",
    "import pandas  as pd\n",
    "import regex   as re\n",
    "import seaborn as sns\n",
    "import regex   as re\n",
    "import numpy   as np\n",
    "\n",
    "import matplotlib.pyplot as plt\n",
    "%matplotlib inline \n",
    "\n",
    "import requests\n",
    "import time \n",
    "\n",
    "from nltk.tokenize        import RegexpTokenizer\n",
    "from nltk.stem            import WordNetLemmatizer\n",
    "from nltk.stem.porter     import PorterStemmer\n",
    "\n",
    "from sklearn.pipeline                   import Pipeline, FeatureUnion\n",
    "from sklearn.model_selection            import train_test_split, cross_val_score, GridSearchCV\n",
    "from sklearn.linear_model               import LogisticRegression\n",
    "from sklearn.feature_extraction.text    import CountVectorizer, TfidfVectorizer\n",
    "from sklearn.naive_bayes                import MultinomialNB\n"
   ]
  },
  {
   "cell_type": "markdown",
   "metadata": {
    "toc-hr-collapsed": true
   },
   "source": [
    "#### Test case"
   ]
  },
  {
   "cell_type": "markdown",
   "metadata": {},
   "source": [
    "Created url for API call"
   ]
  },
  {
   "cell_type": "code",
   "execution_count": 2,
   "metadata": {},
   "outputs": [],
   "source": [
    "url_base = \"https://www.reddit.com/r/worldnews.json\"\n",
    "user_agent = {\"User-agent\": 'agent'}      "
   ]
  },
  {
   "cell_type": "markdown",
   "metadata": {},
   "source": [
    "Make a request "
   ]
  },
  {
   "cell_type": "code",
   "execution_count": 3,
   "metadata": {},
   "outputs": [],
   "source": [
    "res = requests.get(url_base,\n",
    "                   headers = user_agent)"
   ]
  },
  {
   "cell_type": "markdown",
   "metadata": {},
   "source": [
    "Request response code "
   ]
  },
  {
   "cell_type": "code",
   "execution_count": 4,
   "metadata": {},
   "outputs": [
    {
     "data": {
      "text/plain": [
       "200"
      ]
     },
     "execution_count": 4,
     "metadata": {},
     "output_type": "execute_result"
    }
   ],
   "source": [
    "res.status_code"
   ]
  },
  {
   "cell_type": "markdown",
   "metadata": {},
   "source": [
    "Since the response code is 200, it indicated that our request succeeded"
   ]
  },
  {
   "cell_type": "code",
   "execution_count": 5,
   "metadata": {},
   "outputs": [],
   "source": [
    "json_data = res.json()"
   ]
  },
  {
   "cell_type": "markdown",
   "metadata": {},
   "source": [
    "Our request is being saved in `json_data` as a dictionary and we can extract features from the dictionary"
   ]
  },
  {
   "cell_type": "code",
   "execution_count": 6,
   "metadata": {},
   "outputs": [],
   "source": [
    "posts = []                                       #Created empty list \n",
    "\n",
    "#Iterating through each keys in dictionary\n",
    "for keys in json_data['data']['children']:       \n",
    "    \n",
    "    post = {}                                       #Created empty dictionary \n",
    "    post['title'] = keys['data']['title']           #Extracting title\n",
    "    post['subreddit'] = keys['data']['subreddit']   #Extracting which Subreddit it is\n",
    "    post['text'] = keys['data']['selftext']         #Extracting text in the post \n",
    "    \n",
    "    posts.append(post)                              #post dictionary is being in a list "
   ]
  },
  {
   "cell_type": "markdown",
   "metadata": {},
   "source": [
    "Creating a test data frame"
   ]
  },
  {
   "cell_type": "code",
   "execution_count": 7,
   "metadata": {},
   "outputs": [
    {
     "data": {
      "text/html": [
       "<div>\n",
       "<style scoped>\n",
       "    .dataframe tbody tr th:only-of-type {\n",
       "        vertical-align: middle;\n",
       "    }\n",
       "\n",
       "    .dataframe tbody tr th {\n",
       "        vertical-align: top;\n",
       "    }\n",
       "\n",
       "    .dataframe thead th {\n",
       "        text-align: right;\n",
       "    }\n",
       "</style>\n",
       "<table border=\"1\" class=\"dataframe\">\n",
       "  <thead>\n",
       "    <tr style=\"text-align: right;\">\n",
       "      <th></th>\n",
       "      <th>title</th>\n",
       "      <th>subreddit</th>\n",
       "      <th>text</th>\n",
       "    </tr>\n",
       "  </thead>\n",
       "  <tbody>\n",
       "    <tr>\n",
       "      <td>0</td>\n",
       "      <td>Arnold Schwarzenegger praises climate activist...</td>\n",
       "      <td>worldnews</td>\n",
       "      <td></td>\n",
       "    </tr>\n",
       "    <tr>\n",
       "      <td>1</td>\n",
       "      <td>Kurds Confront Exiting U.S. Troops In Syria Wi...</td>\n",
       "      <td>worldnews</td>\n",
       "      <td></td>\n",
       "    </tr>\n",
       "    <tr>\n",
       "      <td>2</td>\n",
       "      <td>Prince Andrew took part in orgy with nine girl...</td>\n",
       "      <td>worldnews</td>\n",
       "      <td></td>\n",
       "    </tr>\n",
       "    <tr>\n",
       "      <td>3</td>\n",
       "      <td>Magic: The Gathering pro expresses support on ...</td>\n",
       "      <td>worldnews</td>\n",
       "      <td></td>\n",
       "    </tr>\n",
       "    <tr>\n",
       "      <td>4</td>\n",
       "      <td>Hong Kong descends into chaos again as protest...</td>\n",
       "      <td>worldnews</td>\n",
       "      <td></td>\n",
       "    </tr>\n",
       "  </tbody>\n",
       "</table>\n",
       "</div>"
      ],
      "text/plain": [
       "                                               title  subreddit text\n",
       "0  Arnold Schwarzenegger praises climate activist...  worldnews     \n",
       "1  Kurds Confront Exiting U.S. Troops In Syria Wi...  worldnews     \n",
       "2  Prince Andrew took part in orgy with nine girl...  worldnews     \n",
       "3  Magic: The Gathering pro expresses support on ...  worldnews     \n",
       "4  Hong Kong descends into chaos again as protest...  worldnews     "
      ]
     },
     "execution_count": 7,
     "metadata": {},
     "output_type": "execute_result"
    }
   ],
   "source": [
    "pd.DataFrame(posts).head()"
   ]
  },
  {
   "cell_type": "markdown",
   "metadata": {},
   "source": [
    "**Observation:** _According to the test case, we can see that the information we need is located in `title` of the post. In order to accelerate this process, we are going to use a function to make requests and save the information we pull into a dictionary. This will be very useful later when we are creating a data frame._"
   ]
  },
  {
   "cell_type": "markdown",
   "metadata": {
    "toc-hr-collapsed": true
   },
   "source": [
    "#### Function for data collection"
   ]
  },
  {
   "cell_type": "markdown",
   "metadata": {},
   "source": [
    "This function makes requests on the Subreddit (input) and returns the information stored into a list"
   ]
  },
  {
   "cell_type": "code",
   "execution_count": 8,
   "metadata": {},
   "outputs": [],
   "source": [
    "def pull_data(url, number=1):                               \n",
    "    posts_list = []     #Final list \n",
    "    after = None        #'after' is defined as none as the first pull doesn't have 'after'\n",
    "    user_agent = {\"User-agent\": 'agent'}\n",
    "    url_base = \"https://www.reddit.com/r/\" + url + \".json\"\n",
    "    \n",
    "    #Iterating through the range of speicified number \n",
    "    for pull_num in range(number):\n",
    "        \n",
    "        #Create a message to tell us which request number we're at\n",
    "        print(f\"Pull number: {pull_num+1}\")\n",
    "        \n",
    "        #Using string concatenation, this is appended to the base URL\n",
    "        if after == None:                          \n",
    "              new_url = url_base \n",
    "        else: \n",
    "              new_url = url_base + \"?after=\" + after \n",
    "\n",
    "        # Step 1: Make request\n",
    "        res = requests.get(url = new_url,\n",
    "                           headers = user_agent)\n",
    "\n",
    "        # Step 2: Extract data \n",
    "        if res.status_code == 200:\n",
    "            json_data = res.json()     \n",
    "            posts = []  \n",
    "\n",
    "                #Extracting the information we need and append it to posts list\n",
    "            for keys in json_data['data']['children']:\n",
    "                post = {}\n",
    "                post['subreddit'] = keys['data']['subreddit']\n",
    "                post['title'] = keys['data']['title']\n",
    "                posts.append(post)\n",
    "\n",
    "            posts_list.extend(posts)   \n",
    "\n",
    "\n",
    "        # Step 3: Update the after string for next loop\n",
    "            after = json_data['data']['after']\n",
    "            # 'after' = ID of the last post in this pull iteration\n",
    "        else:\n",
    "            print(\"We've run into an error. The status code is:\", res.status_code)\n",
    "            break\n",
    "\n",
    "        # Create a brief pause so the API doesn't lock you out by mistaking you for a machine\n",
    "        time.sleep(5)\n",
    "    \n",
    "    return posts_list"
   ]
  },
  {
   "cell_type": "markdown",
   "metadata": {},
   "source": [
    "**Note**: _The following code for pulling data are being commented out so it doesn't run every time we restart our notebook and overrides the existing CSV file_"
   ]
  },
  {
   "cell_type": "markdown",
   "metadata": {},
   "source": [
    "Pulling data from 1st Subreddit"
   ]
  },
  {
   "cell_type": "code",
   "execution_count": 9,
   "metadata": {},
   "outputs": [],
   "source": [
    "#worldnews = pull_data('worldnews',40)"
   ]
  },
  {
   "cell_type": "markdown",
   "metadata": {},
   "source": [
    "Pulling data from 2nd Subreddit"
   ]
  },
  {
   "cell_type": "code",
   "execution_count": 10,
   "metadata": {},
   "outputs": [],
   "source": [
    "#pnew = pull_data('Positive_News',40)"
   ]
  },
  {
   "cell_type": "markdown",
   "metadata": {},
   "source": [
    "Combining both data "
   ]
  },
  {
   "cell_type": "code",
   "execution_count": 11,
   "metadata": {},
   "outputs": [],
   "source": [
    "#worldnews.extend(pnew)"
   ]
  },
  {
   "cell_type": "markdown",
   "metadata": {},
   "source": [
    "Creating Data frame"
   ]
  },
  {
   "cell_type": "code",
   "execution_count": 12,
   "metadata": {},
   "outputs": [],
   "source": [
    "#df = pd.DataFrame(worldnews)"
   ]
  },
  {
   "cell_type": "markdown",
   "metadata": {},
   "source": [
    "Saving to a Data frame"
   ]
  },
  {
   "cell_type": "code",
   "execution_count": 13,
   "metadata": {},
   "outputs": [],
   "source": [
    "#df.to_csv(\"../data/subreddit.csv\", index=False)"
   ]
  },
  {
   "cell_type": "markdown",
   "metadata": {
    "toc-hr-collapsed": false
   },
   "source": [
    "## 2. Data Cleaning \n",
    "---"
   ]
  },
  {
   "cell_type": "markdown",
   "metadata": {
    "toc-hr-collapsed": true
   },
   "source": [
    "#### First look"
   ]
  },
  {
   "cell_type": "code",
   "execution_count": 14,
   "metadata": {},
   "outputs": [],
   "source": [
    "#Reading in our dataframe\n",
    "df = pd.read_csv('../data/subreddit.csv')"
   ]
  },
  {
   "cell_type": "code",
   "execution_count": 15,
   "metadata": {},
   "outputs": [
    {
     "data": {
      "text/html": [
       "<div>\n",
       "<style scoped>\n",
       "    .dataframe tbody tr th:only-of-type {\n",
       "        vertical-align: middle;\n",
       "    }\n",
       "\n",
       "    .dataframe tbody tr th {\n",
       "        vertical-align: top;\n",
       "    }\n",
       "\n",
       "    .dataframe thead th {\n",
       "        text-align: right;\n",
       "    }\n",
       "</style>\n",
       "<table border=\"1\" class=\"dataframe\">\n",
       "  <thead>\n",
       "    <tr style=\"text-align: right;\">\n",
       "      <th></th>\n",
       "      <th>subreddit</th>\n",
       "      <th>title</th>\n",
       "    </tr>\n",
       "  </thead>\n",
       "  <tbody>\n",
       "    <tr>\n",
       "      <td>0</td>\n",
       "      <td>worldnews</td>\n",
       "      <td>‘South Park’ episode banned in China screened ...</td>\n",
       "    </tr>\n",
       "    <tr>\n",
       "      <td>1</td>\n",
       "      <td>worldnews</td>\n",
       "      <td>'Tip of the Iceberg': Prosecutors Allege Vast ...</td>\n",
       "    </tr>\n",
       "    <tr>\n",
       "      <td>2</td>\n",
       "      <td>worldnews</td>\n",
       "      <td>Prosecutors say Giuliani associates were tryin...</td>\n",
       "    </tr>\n",
       "    <tr>\n",
       "      <td>3</td>\n",
       "      <td>worldnews</td>\n",
       "      <td>Two Men Who Worked With Rudy Giuliani To Dig U...</td>\n",
       "    </tr>\n",
       "    <tr>\n",
       "      <td>4</td>\n",
       "      <td>worldnews</td>\n",
       "      <td>'South Park' declares 'F--- the Chinese govern...</td>\n",
       "    </tr>\n",
       "  </tbody>\n",
       "</table>\n",
       "</div>"
      ],
      "text/plain": [
       "   subreddit                                              title\n",
       "0  worldnews  ‘South Park’ episode banned in China screened ...\n",
       "1  worldnews  'Tip of the Iceberg': Prosecutors Allege Vast ...\n",
       "2  worldnews  Prosecutors say Giuliani associates were tryin...\n",
       "3  worldnews  Two Men Who Worked With Rudy Giuliani To Dig U...\n",
       "4  worldnews  'South Park' declares 'F--- the Chinese govern..."
      ]
     },
     "execution_count": 15,
     "metadata": {},
     "output_type": "execute_result"
    }
   ],
   "source": [
    "df.head()"
   ]
  },
  {
   "cell_type": "markdown",
   "metadata": {},
   "source": [
    "Checking how many rows the data contains"
   ]
  },
  {
   "cell_type": "code",
   "execution_count": 16,
   "metadata": {},
   "outputs": [
    {
     "data": {
      "text/plain": [
       "(1992, 2)"
      ]
     },
     "execution_count": 16,
     "metadata": {},
     "output_type": "execute_result"
    }
   ],
   "source": [
    "df.shape"
   ]
  },
  {
   "cell_type": "markdown",
   "metadata": {},
   "source": [
    "Checking distribution of class"
   ]
  },
  {
   "cell_type": "markdown",
   "metadata": {},
   "source": [
    "We are checking that our classes (world news and positive news) have approximately equal amount of rows. So that later on when we are modeling, our classes are not unbalanced."
   ]
  },
  {
   "cell_type": "code",
   "execution_count": 17,
   "metadata": {},
   "outputs": [
    {
     "data": {
      "text/plain": [
       "Positive_News    0.501506\n",
       "worldnews        0.498494\n",
       "Name: subreddit, dtype: float64"
      ]
     },
     "execution_count": 17,
     "metadata": {},
     "output_type": "execute_result"
    }
   ],
   "source": [
    "df['subreddit'].value_counts(normalize=True)"
   ]
  },
  {
   "cell_type": "markdown",
   "metadata": {},
   "source": [
    "As we can see by the output, the classes are not unbalanced"
   ]
  },
  {
   "cell_type": "markdown",
   "metadata": {
    "toc-hr-collapsed": false
   },
   "source": [
    "#### Remove punctuation"
   ]
  },
  {
   "cell_type": "markdown",
   "metadata": {},
   "source": [
    "We are going to \"tokenize\" our data. This basically means that our data is going to be split up into distinct chunks based on some pattern.  \n",
    "During this process: \n",
    "- All string will be converted to lower case\n",
    "- All punctuation will be removed\n",
    "- All single letters will also be removed"
   ]
  },
  {
   "cell_type": "code",
   "execution_count": 18,
   "metadata": {},
   "outputs": [],
   "source": [
    "clean_rows = []\n",
    "\n",
    "#Iterating through each row in title\n",
    "for rows in df['title']:\n",
    "    \n",
    "    #Instantiate Tokenizer\n",
    "    tokenizer = RegexpTokenizer(r'\\w+')\n",
    "    \n",
    "    #Run Tokenizer on each row and converting each row into lower case \n",
    "    rows_token = tokenizer.tokenize(rows.lower())\n",
    "    \n",
    "    #Elinimating single words\n",
    "    rows_token = [words for words in rows_token if len(words) != 1]\n",
    "    \n",
    "    #Converting it back to a list\n",
    "    clean = (\" \".join(rows_token))\n",
    "    \n",
    "    #Saving cleaned rows into new list\n",
    "    clean_rows.append(clean)"
   ]
  },
  {
   "cell_type": "markdown",
   "metadata": {},
   "source": [
    "Adding new column with clean titles"
   ]
  },
  {
   "cell_type": "code",
   "execution_count": 19,
   "metadata": {},
   "outputs": [],
   "source": [
    "df['title_clean'] = pd.Series(clean_rows)"
   ]
  },
  {
   "cell_type": "code",
   "execution_count": 20,
   "metadata": {},
   "outputs": [
    {
     "data": {
      "text/plain": [
       "0    south park episode banned in china screened on...\n",
       "1    tip of the iceberg prosecutors allege vast cri...\n",
       "2    prosecutors say giuliani associates were tryin...\n",
       "3    two men who worked with rudy giuliani to dig u...\n",
       "4    south park declares the chinese government in ...\n",
       "Name: title_clean, dtype: object"
      ]
     },
     "execution_count": 20,
     "metadata": {},
     "output_type": "execute_result"
    }
   ],
   "source": [
    "df['title_clean'].head()"
   ]
  },
  {
   "cell_type": "markdown",
   "metadata": {},
   "source": [
    "Now that we have just removed punctuation in the data set, we are going to check if there are duplicates in our data before we continue with exploratory data analysis."
   ]
  },
  {
   "cell_type": "markdown",
   "metadata": {},
   "source": [
    "#### Duplicates "
   ]
  },
  {
   "cell_type": "markdown",
   "metadata": {},
   "source": [
    "Checking for duplicate titles in both Subreddits."
   ]
  },
  {
   "cell_type": "code",
   "execution_count": 21,
   "metadata": {},
   "outputs": [
    {
     "data": {
      "text/plain": [
       "240"
      ]
     },
     "execution_count": 21,
     "metadata": {},
     "output_type": "execute_result"
    }
   ],
   "source": [
    "df['title_clean'].duplicated().sum()"
   ]
  },
  {
   "cell_type": "markdown",
   "metadata": {},
   "source": [
    "As we can see here with `.duplicated()` output, there are around 240 rows of duplicates in total and we are going to look into each Subreddit specifically to find out, where these duplicates are."
   ]
  },
  {
   "cell_type": "markdown",
   "metadata": {},
   "source": [
    "Duplicates in Subreddit `worldnews`"
   ]
  },
  {
   "cell_type": "code",
   "execution_count": 22,
   "metadata": {},
   "outputs": [
    {
     "name": "stdout",
     "output_type": "stream",
     "text": [
      "There are: 237 duplicates in world news\n"
     ]
    }
   ],
   "source": [
    "print(f\"There are: {df['subreddit'][(df['title_clean'].duplicated()) & (df['subreddit'] == 'worldnews')].count()} duplicates in world news\")"
   ]
  },
  {
   "cell_type": "markdown",
   "metadata": {},
   "source": [
    "Duplicates in subreddit `Positive News`"
   ]
  },
  {
   "cell_type": "code",
   "execution_count": 23,
   "metadata": {},
   "outputs": [
    {
     "name": "stdout",
     "output_type": "stream",
     "text": [
      "There are: 3 duplicates in positive news\n"
     ]
    }
   ],
   "source": [
    "print(f\"There are: {df['subreddit'][(df['title_clean'].duplicated()) & (df['subreddit'] == 'Positive_News')].count()} duplicates in positive news\")"
   ]
  },
  {
   "cell_type": "markdown",
   "metadata": {},
   "source": [
    "**Observation:** _All of these duplicate rows are going to be dropped from the data set_"
   ]
  },
  {
   "cell_type": "code",
   "execution_count": 24,
   "metadata": {},
   "outputs": [],
   "source": [
    "#Dropping duplicates\n",
    "df.drop_duplicates(subset=['title_clean'], inplace=True)"
   ]
  },
  {
   "cell_type": "code",
   "execution_count": 25,
   "metadata": {},
   "outputs": [
    {
     "data": {
      "text/plain": [
       "(1752, 3)"
      ]
     },
     "execution_count": 25,
     "metadata": {},
     "output_type": "execute_result"
    }
   ],
   "source": [
    "#Checking if the rows are dropped \n",
    "df.shape"
   ]
  },
  {
   "cell_type": "markdown",
   "metadata": {},
   "source": [
    "This shows that 240 rows were dropped from our data"
   ]
  },
  {
   "cell_type": "markdown",
   "metadata": {
    "toc-hr-collapsed": false
   },
   "source": [
    "## 3. EDA \n",
    "--- \n",
    "\n",
    "Now that we have cleaned our data, we are going to dive into exploratory data analysis to see if we will be able to solve our problem statement."
   ]
  },
  {
   "cell_type": "markdown",
   "metadata": {
    "toc-hr-collapsed": false
   },
   "source": [
    "#### Preparations"
   ]
  },
  {
   "cell_type": "markdown",
   "metadata": {},
   "source": [
    "In the first part in our EDA, we are going to compare n-gram before and after removing stop words using a simple model, bag of words. N-gram is simply all combinations of adjacent words or letters of length n that we can find in our source text. \n",
    "\n",
    "- In our first function below we defined `n-gram` and if we want to remove `stop_words` or not. The model will then return the top `n` numbers of the most frequent words in our data set. \n",
    "\n",
    "- We are also creating two new variables. These variables will contain two new data frames, each ones with each Subreddit. \n",
    "\n",
    "- The second function below creates new data frames and combines them and the last function is to help us plot the new data frames we have created."
   ]
  },
  {
   "cell_type": "markdown",
   "metadata": {},
   "source": [
    "1. Function for top word frequency "
   ]
  },
  {
   "cell_type": "code",
   "execution_count": 26,
   "metadata": {},
   "outputs": [],
   "source": [
    "#Function for top count words (partial code from Stack Overflow)\n",
    "\n",
    "def get_top_n_words(corpus, n=None, stop_words=None, ngram= (1,1)):\n",
    "    \n",
    "    #Instantiating and fitting Count Vectorizer with stop words \n",
    "    vec = CountVectorizer(stop_words = stop_words, ngram_range=ngram).fit(corpus)\n",
    "    \n",
    "    #Transforming vector\n",
    "    bag_of_words = vec.transform(corpus)\n",
    "    \n",
    "    #Calculating the sum \n",
    "    sum_words = bag_of_words.sum(axis=0) \n",
    "    \n",
    "    #Assigning sum count words (code found on Stack Overflow)\n",
    "    words_freq = [(word, sum_words[0, idx]) for word, idx in vec.vocabulary_.items()]\n",
    "    \n",
    "    #Sorting word frequencies (code found on Stack Overflow)\n",
    "    words_freq =sorted(words_freq, key = lambda x: x[1], reverse=True)\n",
    "    \n",
    "    #Returning only top n numbers \n",
    "    return words_freq[:n]"
   ]
  },
  {
   "cell_type": "markdown",
   "metadata": {},
   "source": [
    "2. Assigning two new data frames "
   ]
  },
  {
   "cell_type": "code",
   "execution_count": 27,
   "metadata": {},
   "outputs": [],
   "source": [
    "#Rows that only contain world news\n",
    "worldnews = df[ df['subreddit'] == 'worldnews']"
   ]
  },
  {
   "cell_type": "code",
   "execution_count": 28,
   "metadata": {},
   "outputs": [],
   "source": [
    "#Rows that only contain positive news\n",
    "pos_news = df[df['subreddit'] == 'Positive_News' ]"
   ]
  },
  {
   "cell_type": "markdown",
   "metadata": {},
   "source": [
    "3. Function to create new Data frame and combine it "
   ]
  },
  {
   "cell_type": "code",
   "execution_count": 29,
   "metadata": {},
   "outputs": [],
   "source": [
    "def save_df(df_1, df_2):\n",
    "    \n",
    "    # Saving as a new Data frame r/worldnews\n",
    "    df_world = pd.DataFrame(df_1, columns = ['reviewtext' , 'r/worldnews'])  \n",
    "\n",
    "    # Saving as a new Data frame r/positive_news\n",
    "    df_pos = pd.DataFrame(df_2, columns = ['reviewtext' , 'r/positive_news'] )\n",
    "\n",
    "     # Merging two new data frames together\n",
    "    new_df = df_world.merge(df_pos, on='reviewtext')     \n",
    "    \n",
    "    return new_df"
   ]
  },
  {
   "cell_type": "markdown",
   "metadata": {},
   "source": [
    "4. Function to plot multiple plots"
   ]
  },
  {
   "cell_type": "code",
   "execution_count": 30,
   "metadata": {},
   "outputs": [],
   "source": [
    "def plot_barh(list_1,list_2,figsize=(15,6), title_fontsize=20, xlabel_fontsize=15, ytickslabel_fontsize=12):\n",
    "\n",
    "    #Creating new data frames\n",
    "    df_1 = pd.DataFrame(list_1, columns= ['reviewtext' , 'worldnews'])\n",
    "    df_2 = pd.DataFrame(list_2, columns = ['reviewtext' , 'positive news'] )\n",
    "\n",
    "    #Adding subplots\n",
    "    fig, ax = plt.subplots(ncols=2, figsize=figsize) \n",
    "\n",
    "    #Worldnews plot\n",
    "    sns.barplot(x ='worldnews', y= 'reviewtext', data=df_1, ax=ax[0], palette=(\"Blues_r\"))\n",
    "    ax[0].set_title(\"Top 20 r/worldnews\",fontsize= title_fontsize)\n",
    "    ax[0].set_ylabel(\"\")\n",
    "    ax[0].set_xlabel(\"Count of words\", fontsize=xlabel_fontsize)\n",
    "    ax[0].set_yticklabels(labels=df_1['reviewtext'],fontsize=ytickslabel_fontsize)\n",
    "\n",
    "\n",
    "    #Positive news plot\n",
    "    sns.barplot(x ='positive news', y= 'reviewtext', data=df_2, ax=ax[1], palette=(\"BuGn_r\"))\n",
    "    ax[1].set_title(\"Top 20 r/positive_news\",fontsize= title_fontsize)\n",
    "    ax[1].set_ylabel(\"\")\n",
    "    ax[1].set_xlabel(\"Count of words\", fontsize=xlabel_fontsize)\n",
    "    ax[1].set_yticklabels(labels=df_2['reviewtext'],fontsize=ytickslabel_fontsize)\n",
    "\n",
    "    plt.tight_layout\n",
    "    \n",
    "    return"
   ]
  },
  {
   "cell_type": "markdown",
   "metadata": {
    "toc-hr-collapsed": true
   },
   "source": [
    "#### Stop words included\n",
    "We are going to analyze the text with stop words included using function to get top count of words in each Subreddit."
   ]
  },
  {
   "cell_type": "code",
   "execution_count": 31,
   "metadata": {},
   "outputs": [],
   "source": [
    "#Extracting common wolrds in Worldnews\n",
    "common_words_world = get_top_n_words(worldnews['title_clean'], 20)\n",
    "\n",
    "#Extracting common wolrds in positive news\n",
    "common_words_pos= get_top_n_words(pos_news['title_clean'], 20)"
   ]
  },
  {
   "cell_type": "markdown",
   "metadata": {},
   "source": [
    "Saving into a new data frame and merging it together on \"words\" that are common in both data frames using our function `save_df`"
   ]
  },
  {
   "cell_type": "code",
   "execution_count": 32,
   "metadata": {},
   "outputs": [],
   "source": [
    "df_new = save_df(common_words_world,common_words_pos)"
   ]
  },
  {
   "cell_type": "markdown",
   "metadata": {},
   "source": [
    "Plotting the two new data frames into a Horizontal Barplot using function `plot_barh`"
   ]
  },
  {
   "cell_type": "code",
   "execution_count": 33,
   "metadata": {},
   "outputs": [
    {
     "data": {
      "image/png": "[encoded data removed]",
      "text/plain": [
       "<Figure size 576x576 with 1 Axes>"
      ]
     },
     "metadata": {
      "needs_background": "light"
     },
     "output_type": "display_data"
    }
   ],
   "source": [
    "#Plotting Horizontal Barchart\n",
    "ax = df_new.plot(kind='barh', x='reviewtext', fontsize=15,figsize=(8,8))\n",
    "\n",
    "#Set title and size\n",
    "ax.set_title(label=\"Top 10 Words\",fontsize=25)    \n",
    "\n",
    "#Set size of legend\n",
    "ax.legend(fontsize=20)     \n",
    "\n",
    "#Set axis label \n",
    "ax.set_xlabel(\"Count of words\", fontsize=15)\n",
    "ax.set_ylabel(\"\");          \n",
    "\n",
    "plt.savefig('../image/stopwords')"
   ]
  },
  {
   "cell_type": "markdown",
   "metadata": {},
   "source": [
    "**Observation**: _As we can see in this graph, the most common words in both subreddits are stop-words. \n",
    "This is **not** going to be helpful in further analysis, because we want to find different key words in each subreddit. Therefore we need to remove stop-words in order to analyze the differences between these two subreddits._"
   ]
  },
  {
   "cell_type": "markdown",
   "metadata": {
    "toc-hr-collapsed": true
   },
   "source": [
    "#### Stop words removed"
   ]
  },
  {
   "cell_type": "markdown",
   "metadata": {},
   "source": [
    "Using function to get top count of words in each Subreddit and removing stop-words"
   ]
  },
  {
   "cell_type": "code",
   "execution_count": 34,
   "metadata": {},
   "outputs": [],
   "source": [
    "#Extracting common wolrds in Worldnews\n",
    "common_words_world = get_top_n_words(worldnews['title_clean'], 20, stop_words='english')\n",
    "\n",
    "#Extracting common wolrds in positive news\n",
    "common_words_pos = get_top_n_words(pos_news['title_clean'], 20, stop_words='english')"
   ]
  },
  {
   "cell_type": "markdown",
   "metadata": {},
   "source": [
    "Plotting both Subreddits after removing stop-words"
   ]
  },
  {
   "cell_type": "code",
   "execution_count": 35,
   "metadata": {},
   "outputs": [
    {
     "data": {
      "image/png": "[encoded data removed]",
      "text/plain": [
       "<Figure size 1584x720 with 2 Axes>"
      ]
     },
     "metadata": {
      "needs_background": "light"
     },
     "output_type": "display_data"
    }
   ],
   "source": [
    "#Plotting using function above\n",
    "plot_barh(common_words_world, common_words_pos, figsize=(22,10), ytickslabel_fontsize=15, title_fontsize=25)\n",
    "\n",
    "#Saving plot\n",
    "plt.savefig('../image/no_stop_words')"
   ]
  },
  {
   "cell_type": "markdown",
   "metadata": {},
   "source": [
    "**Observation:** _Bag of words model is simplified representation of raw data. It discards grammar, order and structure in the text and only tracks for occurrences. One of the advantages is that it is an efficient model. However, since it discards grammar, order, structure and context, we might lose a decent amount of information. As we can see here in the graph, some of the words do not make sense (like 000) or they occur twice such as years and year. In this case it would make sense to look further into 2 n-gram range of words. Additional cleaning such as stemming words and removing numbers will be required in further processing._"
   ]
  },
  {
   "cell_type": "markdown",
   "metadata": {
    "toc-hr-collapsed": true
   },
   "source": [
    "#### Bigram"
   ]
  },
  {
   "cell_type": "markdown",
   "metadata": {},
   "source": [
    "Using function to get top count of words in each subreddits, removing stop-words and 2 n-gram range"
   ]
  },
  {
   "cell_type": "code",
   "execution_count": 36,
   "metadata": {},
   "outputs": [],
   "source": [
    "#Extracting common wolrds in Worldnews\n",
    "common_words_world = get_top_n_words(worldnews['title_clean'], 20, stop_words='english', ngram=(2,2))\n",
    "\n",
    "#Extracting common wolrds in positive news\n",
    "common_words_pos = get_top_n_words(pos_news['title_clean'], 20, stop_words='english', ngram=(2,2))"
   ]
  },
  {
   "cell_type": "markdown",
   "metadata": {},
   "source": [
    "Plotting results"
   ]
  },
  {
   "cell_type": "code",
   "execution_count": 37,
   "metadata": {},
   "outputs": [
    {
     "data": {
      "image/png": "[encoded data removed]",
      "text/plain": [
       "<Figure size 1800x720 with 2 Axes>"
      ]
     },
     "metadata": {
      "needs_background": "light"
     },
     "output_type": "display_data"
    }
   ],
   "source": [
    "#Plotting using function above\n",
    "plot_barh(common_words_world, common_words_pos, figsize=(25,10), ytickslabel_fontsize=13, title_fontsize=25)\n",
    "\n",
    "#Saving plot\n",
    "plt.savefig('../image/2ngram')"
   ]
  },
  {
   "cell_type": "markdown",
   "metadata": {},
   "source": [
    "**Observation:** _In our 2 n-gram plot, we can see that there are some words that are distinct between these titles. For example in `r/worldnews` we can see a lot of words about politics and `r/positive_news`, on the other hand, has more words about the environment. These features will most likely be useful when it comes to modeling and answering our problem statement._"
   ]
  },
  {
   "cell_type": "markdown",
   "metadata": {
    "toc-hr-collapsed": false
   },
   "source": [
    "## 4. Preprocessing\n",
    "---\n",
    "Before we get into Modeling, we are going to do additional preprocessing with our data.\n",
    "1. Step: We need to remove numbers in our data as EDA has shown that they are not significant key features in titles.\n",
    "2. Step: We need to lemmatize our data set.(Lemmatization is the process of converting a word to its base form.)\n",
    "3. Step: For our predictions we need to convert the column `subreddit` into a binary outcome, where `r/positive_news` = 1 and `r/worldnews` = 0 \n",
    "4. Step: Our data needs to split into a training and testing set"
   ]
  },
  {
   "cell_type": "markdown",
   "metadata": {},
   "source": [
    "#### Numbers and Lemmatization"
   ]
  },
  {
   "cell_type": "code",
   "execution_count": 38,
   "metadata": {},
   "outputs": [],
   "source": [
    "#Instantiating Lemmatizer\n",
    "lemmatizer = WordNetLemmatizer()\n",
    "\n",
    "clean_words = []\n",
    "\n",
    "#Iterating through each row\n",
    "for rows in df['title_clean']:\n",
    "    \n",
    "    #Removing numbers\n",
    "    letters_only = re.sub(\"[\\d+]\", \"\",rows)\n",
    "    \n",
    "    #Splitting words\n",
    "    letters_only = letters_only.split()\n",
    "    \n",
    "    #Lemmatize words\n",
    "    words = [lemmatizer.lemmatize(token) for token in letters_only]\n",
    "    \n",
    "    #Joining the words back into one string separated by space, \n",
    "    clean_word = (\" \".join(words))\n",
    "    \n",
    "    #Saving it into a list\n",
    "    clean_words.append(clean_word)"
   ]
  },
  {
   "cell_type": "code",
   "execution_count": 39,
   "metadata": {},
   "outputs": [],
   "source": [
    "#Saving it back to Data frame\n",
    "df['title_clean'] = clean_words"
   ]
  },
  {
   "cell_type": "markdown",
   "metadata": {},
   "source": [
    "#### Preparation for Modeling "
   ]
  },
  {
   "cell_type": "markdown",
   "metadata": {},
   "source": [
    "Changing `r/worldnews` to 0 and `r/positive_news` to 1\n"
   ]
  },
  {
   "cell_type": "code",
   "execution_count": 40,
   "metadata": {},
   "outputs": [],
   "source": [
    "df['subreddit_vec'] = df['subreddit'].map({'worldnews':0, 'Positive_News':1})"
   ]
  },
  {
   "cell_type": "markdown",
   "metadata": {},
   "source": [
    "Looking at class distribution "
   ]
  },
  {
   "cell_type": "code",
   "execution_count": 41,
   "metadata": {},
   "outputs": [
    {
     "data": {
      "text/plain": [
       "1    0.568493\n",
       "0    0.431507\n",
       "Name: subreddit_vec, dtype: float64"
      ]
     },
     "execution_count": 41,
     "metadata": {},
     "output_type": "execute_result"
    }
   ],
   "source": [
    "df['subreddit_vec'].value_counts(normalize=True)"
   ]
  },
  {
   "cell_type": "markdown",
   "metadata": {},
   "source": [
    "**Observation**: _Classes are slightly unbalanced at 56.84\\%. Y variable needs to be stratified when splitting our data_"
   ]
  },
  {
   "cell_type": "markdown",
   "metadata": {},
   "source": [
    "Assigning variables "
   ]
  },
  {
   "cell_type": "code",
   "execution_count": 42,
   "metadata": {},
   "outputs": [],
   "source": [
    "X = df['title_clean']\n",
    "y = df['subreddit_vec']"
   ]
  },
  {
   "cell_type": "markdown",
   "metadata": {},
   "source": [
    "Train/Test split data "
   ]
  },
  {
   "cell_type": "markdown",
   "metadata": {},
   "source": [
    "We are splitting our data set into a 80/20 training and testing ratio."
   ]
  },
  {
   "cell_type": "code",
   "execution_count": 43,
   "metadata": {},
   "outputs": [],
   "source": [
    "X_train, X_test, y_train, y_test = train_test_split(X, y, random_state= 42, stratify= y, test_size = 0.2)"
   ]
  },
  {
   "cell_type": "markdown",
   "metadata": {
    "toc-hr-collapsed": true
   },
   "source": [
    "## 5. Modeling\n",
    "---\n",
    "Since this problem is a binary outcome, we are going to use a classification model to predict our target and because our titles are text, we have to transform our unstructured text data into a numeric `X` matrix using two different vectorizers, `CountVectorizer` and `TfidfVectorizer` in order to predict with our classification model.\n",
    "\n",
    "We are going try out the following models below with `GridSearch` and `Pipeline` in order to find the best model and best hyperparameter for the individual model. \n",
    "\n",
    "- Multinomial Naive Bayes Model with `CountVectorizer` and `TfidfVectorizer`\n",
    "\n",
    "- Logistic Regression Model with `CountVectorizer` and `TfidfVectorizer`"
   ]
  },
  {
   "cell_type": "markdown",
   "metadata": {},
   "source": [
    "#### Baseline Model "
   ]
  },
  {
   "cell_type": "code",
   "execution_count": 44,
   "metadata": {},
   "outputs": [
    {
     "name": "stdout",
     "output_type": "stream",
     "text": [
      "Baseline model for training: 0.568\n"
     ]
    }
   ],
   "source": [
    "print(f\"Baseline model for training: {np.round(y_train.value_counts(normalize=True)[1],3)}\")"
   ]
  },
  {
   "cell_type": "code",
   "execution_count": 45,
   "metadata": {},
   "outputs": [
    {
     "name": "stdout",
     "output_type": "stream",
     "text": [
      "Baseline model for testing: 0.57\n"
     ]
    }
   ],
   "source": [
    "print(f\"Baseline model for testing: {np.round(y_test.value_counts(normalize=True)[1],3)}\")"
   ]
  },
  {
   "cell_type": "markdown",
   "metadata": {},
   "source": [
    "**Observation:** _This is our base line model. In other words, given any post, we would predict that it belongs to `r/positive_news` every time with a base accuracy of 57%._"
   ]
  },
  {
   "cell_type": "markdown",
   "metadata": {},
   "source": [
    "#### Multinomial Naive Bayes Model"
   ]
  },
  {
   "cell_type": "markdown",
   "metadata": {},
   "source": [
    "GridSearch with \n",
    "- Vectorizer: `TfIdfVectorizer` and `CountVectorizer`\n",
    "- Estimator: `Multinomial Naive Bayes`"
   ]
  },
  {
   "cell_type": "code",
   "execution_count": 46,
   "metadata": {},
   "outputs": [],
   "source": [
    "#Defining Pipeline \n",
    "pipe = Pipeline([\n",
    "    ('feats', FeatureUnion([\n",
    "        ('tvec', TfidfVectorizer()),    #Vectorizer\n",
    "        ('cvec', CountVectorizer()),    #Vectorizer\n",
    "    ])),\n",
    "    ('nb' , MultinomialNB())])\n",
    "\n",
    "\n",
    "#Defining parameters for GridsearchCV \n",
    "pipe_params = [{\n",
    "    'feats__tvec__max_features' : [3000,5000],\n",
    "    'feats__tvec__ngram_range' : [(1,1),(1,2)],\n",
    "    'feats__tvec__stop_words' : ['english'],\n",
    "    'feats__cvec__max_features' : [3000,5000],\n",
    "    'feats__cvec__ngram_range' : [(1,1),(1,2)],\n",
    "    'feats__cvec__stop_words' : ['english']\n",
    "}]\n",
    "\n",
    "#Performing Grid Search\n",
    "gs = GridSearchCV(pipe,        \n",
    "                 param_grid=pipe_params,\n",
    "                 cv = 5,\n",
    "                 scoring = 'accuracy')\n",
    "\n",
    "#Fitting Gridsearch\n",
    "gs.fit(X_train, y_train);"
   ]
  },
  {
   "cell_type": "code",
   "execution_count": 47,
   "metadata": {},
   "outputs": [
    {
     "name": "stdout",
     "output_type": "stream",
     "text": [
      "The best parameters for each model are:\n"
     ]
    },
    {
     "data": {
      "text/plain": [
       "{'feats__cvec__max_features': 5000,\n",
       " 'feats__cvec__ngram_range': (1, 1),\n",
       " 'feats__cvec__stop_words': 'english',\n",
       " 'feats__tvec__max_features': 5000,\n",
       " 'feats__tvec__ngram_range': (1, 1),\n",
       " 'feats__tvec__stop_words': 'english'}"
      ]
     },
     "execution_count": 47,
     "metadata": {},
     "output_type": "execute_result"
    }
   ],
   "source": [
    "#Printing best parameters\n",
    "print(\"The best parameters for each model are:\")\n",
    "gs.best_params_"
   ]
  },
  {
   "cell_type": "markdown",
   "metadata": {},
   "source": [
    "Calculating accuracy score for the best parameter for each vectorizer in MB Naive Bayes model"
   ]
  },
  {
   "cell_type": "markdown",
   "metadata": {},
   "source": [
    "For `TfidfVectorizer`"
   ]
  },
  {
   "cell_type": "code",
   "execution_count": 48,
   "metadata": {},
   "outputs": [
    {
     "name": "stdout",
     "output_type": "stream",
     "text": [
      "Best training score for TfidfVectorizer: 0.968\n",
      "Best testing score for TfidfVectorizer: 0.866\n"
     ]
    }
   ],
   "source": [
    "#Assigning best parameter\n",
    "best_tvec_mb = gs.best_estimator_.steps[0][1].transformer_list[0][1]\n",
    "\n",
    "#Fitting and Transforming \n",
    "X_train_tvec_mb = best_tvec_mb.fit_transform(X_train)\n",
    "X_test_tvec_mb = best_tvec_mb.transform(X_test)\n",
    "\n",
    "#Instantiate Model\n",
    "mb = MultinomialNB()\n",
    "\n",
    "#Fitting\n",
    "mb.fit(X_train_tvec_mb, y_train)\n",
    "\n",
    "#Printing Score\n",
    "print(f\"Best training score for TfidfVectorizer: {np.round(mb.score(X_train_tvec_mb,y_train),3)}\")\n",
    "print(f\"Best testing score for TfidfVectorizer: {np.round(mb.score(X_test_tvec_mb,y_test),3)}\")"
   ]
  },
  {
   "cell_type": "markdown",
   "metadata": {},
   "source": [
    "For `CountVectorizer`"
   ]
  },
  {
   "cell_type": "code",
   "execution_count": 49,
   "metadata": {},
   "outputs": [
    {
     "name": "stdout",
     "output_type": "stream",
     "text": [
      "Best training score for CountVectorizer: 0.979\n",
      "Best testing score for CountVectorizer: 0.863\n"
     ]
    }
   ],
   "source": [
    "#Assigning best parameter\n",
    "best_cvec_mb = gs.best_estimator_.steps[0][1].transformer_list[1][1]\n",
    "\n",
    "#Fitting and Transforming \n",
    "X_train_cvec_mb = best_cvec_mb.fit_transform(X_train)\n",
    "X_test_cvec_mb = best_cvec_mb.transform(X_test)\n",
    "\n",
    "#Fitting\n",
    "mb.fit(X_train_cvec_mb, y_train)\n",
    "\n",
    "#Printing Score\n",
    "print(f\"Best training score for CountVectorizer: {np.round(mb.score(X_train_cvec_mb,y_train),3)}\")\n",
    "print(f\"Best testing score for CountVectorizer: {np.round(mb.score(X_test_cvec_mb,y_test),3)}\")"
   ]
  },
  {
   "cell_type": "markdown",
   "metadata": {},
   "source": [
    "#### Logistic Regression Model"
   ]
  },
  {
   "cell_type": "markdown",
   "metadata": {},
   "source": [
    "GridSearch with: \n",
    "- Vectorizer: `TfIdfVectorizer` and `CountVectorizer`\n",
    "- Estimator: `Logistic Regression`"
   ]
  },
  {
   "cell_type": "code",
   "execution_count": 50,
   "metadata": {},
   "outputs": [
    {
     "name": "stdout",
     "output_type": "stream",
     "text": [
      "The best parameters for each model are:\n"
     ]
    },
    {
     "data": {
      "text/plain": [
       "{'feats__cvec__max_features': 5000,\n",
       " 'feats__cvec__ngram_range': (1, 2),\n",
       " 'feats__cvec__stop_words': 'english',\n",
       " 'feats__tvec__max_features': 3000,\n",
       " 'feats__tvec__ngram_range': (1, 1),\n",
       " 'feats__tvec__stop_words': 'english'}"
      ]
     },
     "execution_count": 50,
     "metadata": {},
     "output_type": "execute_result"
    }
   ],
   "source": [
    "#Defining Pipeline \n",
    "pipe = Pipeline([\n",
    "    ('feats', FeatureUnion([\n",
    "        ('tvec', TfidfVectorizer()),    #Vectorizer\n",
    "        ('cvec', CountVectorizer()),    #Vectorizer\n",
    "    ])),\n",
    "    ('lg' , LogisticRegression())])\n",
    "\n",
    "\n",
    "#Defining parameters for GridsearchCV \n",
    "pipe_params = [{\n",
    "    'feats__tvec__max_features' : [3000,5000],\n",
    "    'feats__tvec__ngram_range' : [(1,1),(1,2)],\n",
    "    'feats__tvec__stop_words' : ['english'],\n",
    "    'feats__cvec__max_features' : [3000,5000],\n",
    "    'feats__cvec__ngram_range' : [(1,1),(1,2)],\n",
    "    'feats__cvec__stop_words' : ['english']\n",
    "}]\n",
    "\n",
    "#Performing Grid Search\n",
    "gs = GridSearchCV(pipe,        \n",
    "                 param_grid=pipe_params,\n",
    "                 cv = 5,\n",
    "                 scoring = 'accuracy')\n",
    "\n",
    "#Fitting Gridsearch\n",
    "gs.fit(X_train, y_train);\n",
    "\n",
    "#Printing best parameters\n",
    "print(\"The best parameters for each model are:\")\n",
    "gs.best_params_"
   ]
  },
  {
   "cell_type": "markdown",
   "metadata": {},
   "source": [
    "Calculating accuracy score for the best parameter for each vectorizer in Logistic Regression model"
   ]
  },
  {
   "cell_type": "markdown",
   "metadata": {},
   "source": [
    "For `TfidfVectorizer`"
   ]
  },
  {
   "cell_type": "code",
   "execution_count": 51,
   "metadata": {},
   "outputs": [
    {
     "name": "stdout",
     "output_type": "stream",
     "text": [
      "Best training score for TfidfVectorizer: 0.929\n",
      "Best testing score for TfidfVectorizer: 0.835\n"
     ]
    }
   ],
   "source": [
    "#Assigning best parameter\n",
    "best_tvec_lg = gs.best_estimator_.steps[0][1].transformer_list[0][1]\n",
    "\n",
    "#Fitting and Transforming \n",
    "X_train_tvec_lg = best_tvec_lg.fit_transform(X_train)\n",
    "X_test_tvec_lg = best_tvec_lg.transform(X_test)\n",
    "\n",
    "#Instantiate Model\n",
    "lg = LogisticRegression()\n",
    "\n",
    "#Fitting\n",
    "lg.fit(X_train_tvec_lg, y_train)\n",
    "\n",
    "#Printing Score\n",
    "print(f\"Best training score for TfidfVectorizer: {np.round(lg.score(X_train_tvec_lg,y_train),3)}\")\n",
    "print(f\"Best testing score for TfidfVectorizer: {np.round(lg.score(X_test_tvec_lg,y_test),3)}\")"
   ]
  },
  {
   "cell_type": "markdown",
   "metadata": {},
   "source": [
    "For `CountVectorizer`"
   ]
  },
  {
   "cell_type": "code",
   "execution_count": 52,
   "metadata": {},
   "outputs": [
    {
     "name": "stdout",
     "output_type": "stream",
     "text": [
      "Best training score for CountVectorizer: 0.996\n",
      "Best testing score for CountVectorizer: 0.866\n"
     ]
    }
   ],
   "source": [
    "#Assigning best parameter\n",
    "best_cvec_lg = gs.best_estimator_.steps[0][1].transformer_list[1][1]\n",
    "\n",
    "#Fitting and Transforming \n",
    "X_train_cvec_lg = best_cvec_lg.fit_transform(X_train)\n",
    "X_test_cvec_lg = best_cvec_lg.transform(X_test)\n",
    "\n",
    "#Fitting\n",
    "lg.fit(X_train_cvec_lg, y_train)\n",
    "\n",
    "#Printing Score\n",
    "print(f\"Best training score for CountVectorizer: {np.round(lg.score(X_train_cvec_lg,y_train),3)}\")\n",
    "print(f\"Best testing score for CountVectorizer: {np.round(lg.score(X_test_cvec_lg,y_test),3)}\")"
   ]
  },
  {
   "cell_type": "markdown",
   "metadata": {},
   "source": [
    "#### Summary of model\n",
    "\n",
    "_All scores here are accuracy scores._\n",
    "\n",
    "Model|Vectorizer|Train Score|Test Score|\n",
    "---|---|---|---|\n",
    "Baseline||0.568|0.570\n",
    "**MB Naive Bayes**| **Tfidf**|**0.968**|**0.866**\n",
    "MB Naive Bayes| Count|0.979|0.863\n",
    "Logistic Regression| Tfidf|0.926|0.835\n",
    "Logistic Regression| Count|0.996|0.866\n"
   ]
  },
  {
   "cell_type": "markdown",
   "metadata": {},
   "source": [
    "\n",
    "Comparing all these models we can see that our best model is Multinomial Naive Bayes Model with `TfidfVectorizer` with an accuracy score of 97% in training and accuracy score of 87% in testing. The training accuracy scores are very high for each of the models, but all of the models did not do well in unfamiliar environments. However, all our models performed much better than the baseline model. `TfidfVectorizer` did better on both classification models than `CountVectorizer`. \n",
    "- One downside of `CountVectorizer` is that it creates a vector for each token and counts up the number of occurrences of each token in each document. Words in 99% of documents or words occurring in only one document might not be very informative when it comes to our predictions. This can also be the reason why `TfidfVectorizer` performed better as common words are penalized and rare words have more influence.\n",
    "\n",
    "- Both classification models performed well, but MB Naive Bayes model was the one that has the least amount of errors compared to logistic regression model. Since Naive Bayes assumes that all words are independent of each other, it is not sensitive about outliers. Logistic Regression on the other hand is sensitive to outliers, which is shown due to high variance in errors in the results.\n",
    "\n",
    "In conclusion, all of the models are slightly over-fitted. However, we are going to further investigate our results with our worse model and best model."
   ]
  },
  {
   "cell_type": "markdown",
   "metadata": {
    "toc-hr-collapsed": true
   },
   "source": [
    "## 6. Evaluation"
   ]
  },
  {
   "cell_type": "markdown",
   "metadata": {},
   "source": [
    "#### Data frame of predictions"
   ]
  },
  {
   "cell_type": "markdown",
   "metadata": {},
   "source": [
    "Our _worst_ model was Logistic Regression with `CountVectorizer` and we are going to create a data frame. This will help us to look at the coeefficient of the model."
   ]
  },
  {
   "cell_type": "code",
   "execution_count": 53,
   "metadata": {},
   "outputs": [
    {
     "data": {
      "text/html": [
       "<div>\n",
       "<style scoped>\n",
       "    .dataframe tbody tr th:only-of-type {\n",
       "        vertical-align: middle;\n",
       "    }\n",
       "\n",
       "    .dataframe tbody tr th {\n",
       "        vertical-align: top;\n",
       "    }\n",
       "\n",
       "    .dataframe thead th {\n",
       "        text-align: right;\n",
       "    }\n",
       "</style>\n",
       "<table border=\"1\" class=\"dataframe\">\n",
       "  <thead>\n",
       "    <tr style=\"text-align: right;\">\n",
       "      <th></th>\n",
       "      <th>ab</th>\n",
       "      <th>abandon</th>\n",
       "      <th>abandoned</th>\n",
       "      <th>abandoning</th>\n",
       "      <th>ability</th>\n",
       "      <th>able</th>\n",
       "      <th>aboard</th>\n",
       "      <th>abortion</th>\n",
       "      <th>abortion ban</th>\n",
       "      <th>abortion clinic</th>\n",
       "      <th>...</th>\n",
       "      <th>ypg</th>\n",
       "      <th>ypg pkk</th>\n",
       "      <th>zealand</th>\n",
       "      <th>zelenskiy</th>\n",
       "      <th>zero</th>\n",
       "      <th>zero carbon</th>\n",
       "      <th>zero emission</th>\n",
       "      <th>zero waste</th>\n",
       "      <th>zone</th>\n",
       "      <th>zoo</th>\n",
       "    </tr>\n",
       "  </thead>\n",
       "  <tbody>\n",
       "    <tr>\n",
       "      <td>0</td>\n",
       "      <td>0</td>\n",
       "      <td>0</td>\n",
       "      <td>0</td>\n",
       "      <td>0</td>\n",
       "      <td>0</td>\n",
       "      <td>0</td>\n",
       "      <td>0</td>\n",
       "      <td>0</td>\n",
       "      <td>0</td>\n",
       "      <td>0</td>\n",
       "      <td>...</td>\n",
       "      <td>0</td>\n",
       "      <td>0</td>\n",
       "      <td>0</td>\n",
       "      <td>0</td>\n",
       "      <td>0</td>\n",
       "      <td>0</td>\n",
       "      <td>0</td>\n",
       "      <td>0</td>\n",
       "      <td>0</td>\n",
       "      <td>0</td>\n",
       "    </tr>\n",
       "    <tr>\n",
       "      <td>1</td>\n",
       "      <td>0</td>\n",
       "      <td>0</td>\n",
       "      <td>0</td>\n",
       "      <td>0</td>\n",
       "      <td>0</td>\n",
       "      <td>0</td>\n",
       "      <td>0</td>\n",
       "      <td>0</td>\n",
       "      <td>0</td>\n",
       "      <td>0</td>\n",
       "      <td>...</td>\n",
       "      <td>0</td>\n",
       "      <td>0</td>\n",
       "      <td>0</td>\n",
       "      <td>0</td>\n",
       "      <td>0</td>\n",
       "      <td>0</td>\n",
       "      <td>0</td>\n",
       "      <td>0</td>\n",
       "      <td>0</td>\n",
       "      <td>0</td>\n",
       "    </tr>\n",
       "    <tr>\n",
       "      <td>2</td>\n",
       "      <td>0</td>\n",
       "      <td>0</td>\n",
       "      <td>0</td>\n",
       "      <td>0</td>\n",
       "      <td>0</td>\n",
       "      <td>0</td>\n",
       "      <td>0</td>\n",
       "      <td>0</td>\n",
       "      <td>0</td>\n",
       "      <td>0</td>\n",
       "      <td>...</td>\n",
       "      <td>0</td>\n",
       "      <td>0</td>\n",
       "      <td>0</td>\n",
       "      <td>0</td>\n",
       "      <td>0</td>\n",
       "      <td>0</td>\n",
       "      <td>0</td>\n",
       "      <td>0</td>\n",
       "      <td>0</td>\n",
       "      <td>0</td>\n",
       "    </tr>\n",
       "    <tr>\n",
       "      <td>3</td>\n",
       "      <td>0</td>\n",
       "      <td>0</td>\n",
       "      <td>0</td>\n",
       "      <td>0</td>\n",
       "      <td>0</td>\n",
       "      <td>0</td>\n",
       "      <td>0</td>\n",
       "      <td>0</td>\n",
       "      <td>0</td>\n",
       "      <td>0</td>\n",
       "      <td>...</td>\n",
       "      <td>0</td>\n",
       "      <td>0</td>\n",
       "      <td>0</td>\n",
       "      <td>0</td>\n",
       "      <td>1</td>\n",
       "      <td>1</td>\n",
       "      <td>0</td>\n",
       "      <td>0</td>\n",
       "      <td>0</td>\n",
       "      <td>0</td>\n",
       "    </tr>\n",
       "    <tr>\n",
       "      <td>4</td>\n",
       "      <td>0</td>\n",
       "      <td>0</td>\n",
       "      <td>0</td>\n",
       "      <td>0</td>\n",
       "      <td>0</td>\n",
       "      <td>0</td>\n",
       "      <td>0</td>\n",
       "      <td>0</td>\n",
       "      <td>0</td>\n",
       "      <td>0</td>\n",
       "      <td>...</td>\n",
       "      <td>0</td>\n",
       "      <td>0</td>\n",
       "      <td>0</td>\n",
       "      <td>0</td>\n",
       "      <td>0</td>\n",
       "      <td>0</td>\n",
       "      <td>0</td>\n",
       "      <td>0</td>\n",
       "      <td>0</td>\n",
       "      <td>0</td>\n",
       "    </tr>\n",
       "  </tbody>\n",
       "</table>\n",
       "<p>5 rows × 5000 columns</p>\n",
       "</div>"
      ],
      "text/plain": [
       "   ab  abandon  abandoned  abandoning  ability  able  aboard  abortion  \\\n",
       "0   0        0          0           0        0     0       0         0   \n",
       "1   0        0          0           0        0     0       0         0   \n",
       "2   0        0          0           0        0     0       0         0   \n",
       "3   0        0          0           0        0     0       0         0   \n",
       "4   0        0          0           0        0     0       0         0   \n",
       "\n",
       "   abortion ban  abortion clinic  ...  ypg  ypg pkk  zealand  zelenskiy  zero  \\\n",
       "0             0                0  ...    0        0        0          0     0   \n",
       "1             0                0  ...    0        0        0          0     0   \n",
       "2             0                0  ...    0        0        0          0     0   \n",
       "3             0                0  ...    0        0        0          0     1   \n",
       "4             0                0  ...    0        0        0          0     0   \n",
       "\n",
       "   zero carbon  zero emission  zero waste  zone  zoo  \n",
       "0            0              0           0     0    0  \n",
       "1            0              0           0     0    0  \n",
       "2            0              0           0     0    0  \n",
       "3            1              0           0     0    0  \n",
       "4            0              0           0     0    0  \n",
       "\n",
       "[5 rows x 5000 columns]"
      ]
     },
     "execution_count": 53,
     "metadata": {},
     "output_type": "execute_result"
    }
   ],
   "source": [
    "pd.DataFrame(X_train_cvec_lg.todense(), columns=best_cvec_lg.get_feature_names()).head()"
   ]
  },
  {
   "cell_type": "markdown",
   "metadata": {},
   "source": [
    "Looking at coefficient of our model"
   ]
  },
  {
   "cell_type": "code",
   "execution_count": 54,
   "metadata": {},
   "outputs": [],
   "source": [
    "coef_df = pd.DataFrame({'coef': lg.coef_[0],\n",
    "                        'term': best_cvec_lg.get_feature_names()\n",
    "                       })"
   ]
  },
  {
   "cell_type": "markdown",
   "metadata": {},
   "source": [
    "Finding the top 20 coefficient by sorting and making a new data frame `coef`"
   ]
  },
  {
   "cell_type": "code",
   "execution_count": 55,
   "metadata": {},
   "outputs": [],
   "source": [
    "low_coef = coef_df.sort_values(by='coef').head(10)\n",
    "high_coef = coef_df.sort_values(by='coef', ascending=False).head(10)\n",
    "coef = pd.concat([low_coef,high_coef])"
   ]
  },
  {
   "cell_type": "markdown",
   "metadata": {},
   "source": [
    "Plotting `coef` data frame"
   ]
  },
  {
   "cell_type": "code",
   "execution_count": 56,
   "metadata": {},
   "outputs": [
    {
     "data": {
      "image/png": "[encoded data removed]",
      "text/plain": [
       "<Figure size 720x720 with 1 Axes>"
      ]
     },
     "metadata": {
      "needs_background": "light"
     },
     "output_type": "display_data"
    }
   ],
   "source": [
    "#Plotting barplot\n",
    "plt.figure(figsize=(10,10))\n",
    "ax = sns.barplot(x = 'coef', y='term',data=coef.sort_values(by='coef'), palette=('RdBu_r'))\n",
    "\n",
    "#Set title and size\n",
    "ax.set_title(label=\"Top 20 coefficients of Logistic Regression model\",fontsize=27)    \n",
    "\n",
    "#Set axis label and size\n",
    "ax.set_xlabel(\"value of coefficients\", fontsize=18)\n",
    "ax.set_ylabel(\"\")\n",
    "ax.set_yticklabels(labels=coef['term'], fontsize=18)\n",
    "\n",
    "sns.set(font_scale=1.4);"
   ]
  },
  {
   "cell_type": "markdown",
   "metadata": {},
   "source": [
    "**Observation:** _As we can see here at the coefficients most words that have a negative coefficient have an ongoing theme about countries such as Syria, Turkey or China and government such as Brexit or Trump. On the hand, we can see that positive words are out Peace, tree or the environment. The same observation was observed in during EDA._"
   ]
  },
  {
   "cell_type": "markdown",
   "metadata": {},
   "source": [
    "Our _best_ model was MB Naive Bayes Model with `TfidfVectorizer`. We are going to create a new data frame with our best model"
   ]
  },
  {
   "cell_type": "code",
   "execution_count": 57,
   "metadata": {},
   "outputs": [],
   "source": [
    "#Predictions\n",
    "train_preds = mb.predict(X_train_tvec_mb)\n",
    "test_preds = mb.predict(X_test_tvec_mb)\n",
    "\n",
    "#Data frame for predictions for our training set \n",
    "pred_df_train = pd.DataFrame({\n",
    "    'title':X_train,\n",
    "    'actual':y_train,\n",
    "    'prediction':train_preds})\n",
    "\n",
    "#Data frame for predictions for our testing set \n",
    "pred_df_test = pd.DataFrame({\n",
    "    'title': X_test,\n",
    "    'actual': y_test,\n",
    "    'prediction': test_preds})"
   ]
  },
  {
   "cell_type": "code",
   "execution_count": 58,
   "metadata": {},
   "outputs": [
    {
     "data": {
      "text/html": [
       "<div>\n",
       "<style scoped>\n",
       "    .dataframe tbody tr th:only-of-type {\n",
       "        vertical-align: middle;\n",
       "    }\n",
       "\n",
       "    .dataframe tbody tr th {\n",
       "        vertical-align: top;\n",
       "    }\n",
       "\n",
       "    .dataframe thead th {\n",
       "        text-align: right;\n",
       "    }\n",
       "</style>\n",
       "<table border=\"1\" class=\"dataframe\">\n",
       "  <thead>\n",
       "    <tr style=\"text-align: right;\">\n",
       "      <th></th>\n",
       "      <th>title</th>\n",
       "      <th>actual</th>\n",
       "      <th>prediction</th>\n",
       "    </tr>\n",
       "  </thead>\n",
       "  <tbody>\n",
       "    <tr>\n",
       "      <td>696</td>\n",
       "      <td>government plan km long great green wall of india</td>\n",
       "      <td>0</td>\n",
       "      <td>1</td>\n",
       "    </tr>\n",
       "    <tr>\n",
       "      <td>345</td>\n",
       "      <td>extinction rebellion protester climb on plane ...</td>\n",
       "      <td>0</td>\n",
       "      <td>0</td>\n",
       "    </tr>\n",
       "    <tr>\n",
       "      <td>194</td>\n",
       "      <td>thai cafe forced to track customer wifi use sp...</td>\n",
       "      <td>0</td>\n",
       "      <td>0</td>\n",
       "    </tr>\n",
       "    <tr>\n",
       "      <td>1571</td>\n",
       "      <td>ireland to unveil bold plan to tackle climate ...</td>\n",
       "      <td>1</td>\n",
       "      <td>1</td>\n",
       "    </tr>\n",
       "    <tr>\n",
       "      <td>1348</td>\n",
       "      <td>in the th hour court halt copper mine from des...</td>\n",
       "      <td>1</td>\n",
       "      <td>1</td>\n",
       "    </tr>\n",
       "  </tbody>\n",
       "</table>\n",
       "</div>"
      ],
      "text/plain": [
       "                                                  title  actual  prediction\n",
       "696   government plan km long great green wall of india       0           1\n",
       "345   extinction rebellion protester climb on plane ...       0           0\n",
       "194   thai cafe forced to track customer wifi use sp...       0           0\n",
       "1571  ireland to unveil bold plan to tackle climate ...       1           1\n",
       "1348  in the th hour court halt copper mine from des...       1           1"
      ]
     },
     "execution_count": 58,
     "metadata": {},
     "output_type": "execute_result"
    }
   ],
   "source": [
    "#Looking into prediction data frame from training set \n",
    "pred_df_train.head()"
   ]
  },
  {
   "cell_type": "code",
   "execution_count": 59,
   "metadata": {},
   "outputs": [
    {
     "data": {
      "text/html": [
       "<div>\n",
       "<style scoped>\n",
       "    .dataframe tbody tr th:only-of-type {\n",
       "        vertical-align: middle;\n",
       "    }\n",
       "\n",
       "    .dataframe tbody tr th {\n",
       "        vertical-align: top;\n",
       "    }\n",
       "\n",
       "    .dataframe thead th {\n",
       "        text-align: right;\n",
       "    }\n",
       "</style>\n",
       "<table border=\"1\" class=\"dataframe\">\n",
       "  <thead>\n",
       "    <tr style=\"text-align: right;\">\n",
       "      <th></th>\n",
       "      <th>title</th>\n",
       "      <th>actual</th>\n",
       "      <th>prediction</th>\n",
       "    </tr>\n",
       "  </thead>\n",
       "  <tbody>\n",
       "    <tr>\n",
       "      <td>1973</td>\n",
       "      <td>ramadan understanding it history and tradition...</td>\n",
       "      <td>1</td>\n",
       "      <td>1</td>\n",
       "    </tr>\n",
       "    <tr>\n",
       "      <td>1905</td>\n",
       "      <td>africa ethiopia ghana malawi rwanda and south ...</td>\n",
       "      <td>1</td>\n",
       "      <td>1</td>\n",
       "    </tr>\n",
       "    <tr>\n",
       "      <td>587</td>\n",
       "      <td>nobel physic prize ground breaking win for pla...</td>\n",
       "      <td>0</td>\n",
       "      <td>0</td>\n",
       "    </tr>\n",
       "    <tr>\n",
       "      <td>159</td>\n",
       "      <td>france britain germany to condemn turkish offe...</td>\n",
       "      <td>0</td>\n",
       "      <td>0</td>\n",
       "    </tr>\n",
       "    <tr>\n",
       "      <td>1746</td>\n",
       "      <td>thousand of people have been encouraged by mom...</td>\n",
       "      <td>1</td>\n",
       "      <td>1</td>\n",
       "    </tr>\n",
       "  </tbody>\n",
       "</table>\n",
       "</div>"
      ],
      "text/plain": [
       "                                                  title  actual  prediction\n",
       "1973  ramadan understanding it history and tradition...       1           1\n",
       "1905  africa ethiopia ghana malawi rwanda and south ...       1           1\n",
       "587   nobel physic prize ground breaking win for pla...       0           0\n",
       "159   france britain germany to condemn turkish offe...       0           0\n",
       "1746  thousand of people have been encouraged by mom...       1           1"
      ]
     },
     "execution_count": 59,
     "metadata": {},
     "output_type": "execute_result"
    }
   ],
   "source": [
    "#Looking into prediction data frame from testing set \n",
    "pred_df_test.head()"
   ]
  },
  {
   "cell_type": "markdown",
   "metadata": {},
   "source": [
    "Filtering through prediction data frames to find wrong predictions in each data set"
   ]
  },
  {
   "cell_type": "code",
   "execution_count": 60,
   "metadata": {},
   "outputs": [],
   "source": [
    "wrong_preds_train = pred_df_train[pred_df_train['actual'] != pred_df_train['prediction']]\n",
    "wrong_preds_test = pred_df_test[pred_df_test['actual'] != pred_df_test['prediction']]"
   ]
  },
  {
   "cell_type": "code",
   "execution_count": 61,
   "metadata": {},
   "outputs": [
    {
     "name": "stdout",
     "output_type": "stream",
     "text": [
      "There are a total of 26 rows of wrong predictions in 1401 rows of training set\n",
      "There are a total of 45 rows of wrong predictions in 351 rows of testing set\n"
     ]
    }
   ],
   "source": [
    "print(f\"There are a total of {wrong_preds_train.shape[0]} rows of wrong predictions in {len(pred_df_train)} rows of training set\")\n",
    "print(f\"There are a total of {wrong_preds_test.shape[0]} rows of wrong predictions in {len(pred_df_test)} rows of testing set\")"
   ]
  },
  {
   "cell_type": "markdown",
   "metadata": {},
   "source": [
    "#### Deep Dive analysis"
   ]
  },
  {
   "cell_type": "markdown",
   "metadata": {},
   "source": [
    "Example of False Positive prediction "
   ]
  },
  {
   "cell_type": "code",
   "execution_count": 64,
   "metadata": {},
   "outputs": [
    {
     "name": "stdout",
     "output_type": "stream",
     "text": [
      "Original title from r/worldnews: Protien technology's to collapse animal farming within 10 years.\n",
      "Prediction title to r/positive_news: protien technology to collapse animal farming within year\n"
     ]
    }
   ],
   "source": [
    "print(f\"Original title from r/worldnews: {df.loc[462,'title']}\")\n",
    "print(f\"Prediction title to r/positive_news: {pred_df_train.loc[462,'title']}\")"
   ]
  },
  {
   "cell_type": "markdown",
   "metadata": {},
   "source": [
    "Example for False Negative prediction"
   ]
  },
  {
   "cell_type": "code",
   "execution_count": 63,
   "metadata": {},
   "outputs": [
    {
     "name": "stdout",
     "output_type": "stream",
     "text": [
      "Original title from r/positive_news: Sudan protest leaders call for civil disobedience\n",
      "Prediction title to r/worldnews: sudan protest leader call for civil disobedience\n"
     ]
    }
   ],
   "source": [
    "print(f\"Original title from r/positive_news: {df.loc[1681,'title']}\")\n",
    "print(f\"Prediction title to r/worldnews: {pred_df_train.loc[1681,'title']}\")"
   ]
  },
  {
   "cell_type": "markdown",
   "metadata": {},
   "source": [
    "#### Summary of evaluation"
   ]
  },
  {
   "cell_type": "markdown",
   "metadata": {},
   "source": [
    "In conclusion, there are 26 rows of wrong predictions out a total of 1400 from the training set and 45 rows out of a total of 350 from the testing set in our best model. As observed with our coefficient of Logistic Regression model, we can conclude that positive words are about the environment, community, people and mostly not about countries and politics.\n",
    "\n",
    "However, due to noise within our data, we saw the predictions in our False positive example, that it was predicting positive and not negative. We most likely would have also predicted that the title is from `r/positive_news` because it's about animal farming and during our EDA and coefficients we saw environmental features in our predictions for `r/positive_news`. The same goes for false negative examples, where the title was about protest and civil disobedience and during analysis we discovered key words about politics tend to be more in `r/worldnews`. \n",
    "\n",
    "One limitation with Logistic Regression model is that it requires that each data point be independent of all other data points. This might not be the case here with our data. This is probably why our MB Naive Bayes model performed better than Logistic Regression as it already assumes that all data are independent of each other. However, one advantage of our Logictic Regression model is that it is very easy to interpret like shown in the coefficient plot.\n",
    "\n",
    "Overall, our model did well in predicting in which Subreddit the title belonged. Even with the errors, we can see that even a human would have mistaken some of the posts._"
   ]
  },
  {
   "cell_type": "markdown",
   "metadata": {},
   "source": [
    "## 7. Conclusion and Recommendations\n",
    "---"
   ]
  },
  {
   "cell_type": "markdown",
   "metadata": {},
   "source": [
    "In conclusion, our best predictive model was MB Naive Bayes model, where we predicted an accuracy score of 95% in training and accuracy score 87% in testing. Surprisingly, our best model used n-gram range of 1, which means that it predicted our outcome only by using single words. \n",
    "\n",
    "- One disadvantage of the Naive Bayes model is that it assumes that all the words are independent of each other. Therefore, grammar, order and structure in the text are lost with this model. However, sometimes in titles, context of the whole corpus plays a big role in determining how the titles are perceived by humans. This is a big downside of the model. \n",
    "- On the other hand, the model is very efficient and great with many features. In this case we used 3000 features in our model. It outperformed our logistic regression models, because it is not sensitive to outliers due to variable independence . \n",
    "\n",
    "During the entire analysis of predicting our `r/worldnews` and `r/positive_news`, we saw that world news titles have the trend of talking about politics and government in many different countries, whereas positive news had a lot of information about the environment. Therefore to answer our problem, we can conclude that there are possible keywords in headlines that would make someone perceive news as positive. If we want to have our readers perceive news as positive, we should write more about the environment instead of politics and government is our recommendation. \n",
    "\n",
    "The next step would be improving our models by including more diverse data to see if there are more features, not just environment, that would give us better recommendations. Including more data about others topics might diversify our results even further. During modeling n-gram range 2 showed in EDA that there was significant differences between the titles, however, our model was not able to predict great results based on that. With this in mind, by adding more data, we might be able to tune our parameters better such as lowering maximum features and increasing n-gram range to add more context, structure and order to our prediction model. Additionally, another way to improve our model is using more a advanced classification model, where we won't lose the context of the corpus when analyzing the data."
   ]
  }
 ],
 "metadata": {
  "kernelspec": {
   "display_name": "Python 3",
   "language": "python",
   "name": "python3"
  },
  "language_info": {
   "codemirror_mode": {
    "name": "ipython",
    "version": 3
   },
   "file_extension": ".py",
   "mimetype": "text/x-python",
   "name": "python",
   "nbconvert_exporter": "python",
   "pygments_lexer": "ipython3",
   "version": "3.7.4"
  },
  "toc-autonumbering": false,
  "toc-showtags": false
 },
 "nbformat": 4,
 "nbformat_minor": 4
}
